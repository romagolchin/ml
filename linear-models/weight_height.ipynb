{
 "cells": [
  {
   "cell_type": "code",
   "execution_count": 243,
   "metadata": {},
   "outputs": [],
   "source": [
    "import numpy as np\n",
    "import pandas as pd\n",
    "import sklearn.linear_model as lm\n",
    "from sklearn import model_selection\n",
    "import matplotlib.pyplot as plt\n",
    "import sqlalchemy\n",
    "import configparser\n",
    "\n",
    "# show graphs right in the notebook (rather than in another window)\n",
    "%matplotlib inline"
   ]
  },
  {
   "cell_type": "markdown",
   "metadata": {},
   "source": [
    "### Загружаем данные из БД"
   ]
  },
  {
   "cell_type": "code",
   "execution_count": 244,
   "metadata": {},
   "outputs": [
    {
     "data": {
      "text/html": [
       "<div>\n",
       "<style scoped>\n",
       "    .dataframe tbody tr th:only-of-type {\n",
       "        vertical-align: middle;\n",
       "    }\n",
       "\n",
       "    .dataframe tbody tr th {\n",
       "        vertical-align: top;\n",
       "    }\n",
       "\n",
       "    .dataframe thead th {\n",
       "        text-align: right;\n",
       "    }\n",
       "</style>\n",
       "<table border=\"1\" class=\"dataframe\">\n",
       "  <thead>\n",
       "    <tr style=\"text-align: right;\">\n",
       "      <th></th>\n",
       "      <th>Height</th>\n",
       "      <th>Weight</th>\n",
       "      <th>Age</th>\n",
       "    </tr>\n",
       "  </thead>\n",
       "  <tbody>\n",
       "    <tr>\n",
       "      <th>0</th>\n",
       "      <td>185.0</td>\n",
       "      <td>81.45</td>\n",
       "      <td>29.0</td>\n",
       "    </tr>\n",
       "    <tr>\n",
       "      <th>1</th>\n",
       "      <td>180.0</td>\n",
       "      <td>72.45</td>\n",
       "      <td>30.0</td>\n",
       "    </tr>\n",
       "    <tr>\n",
       "      <th>2</th>\n",
       "      <td>202.5</td>\n",
       "      <td>99.00</td>\n",
       "      <td>20.0</td>\n",
       "    </tr>\n",
       "    <tr>\n",
       "      <th>3</th>\n",
       "      <td>205.0</td>\n",
       "      <td>106.65</td>\n",
       "      <td>24.0</td>\n",
       "    </tr>\n",
       "    <tr>\n",
       "      <th>4</th>\n",
       "      <td>205.0</td>\n",
       "      <td>110.25</td>\n",
       "      <td>29.0</td>\n",
       "    </tr>\n",
       "  </tbody>\n",
       "</table>\n",
       "</div>"
      ],
      "text/plain": [
       "   Height  Weight   Age\n",
       "0   185.0   81.45  29.0\n",
       "1   180.0   72.45  30.0\n",
       "2   202.5   99.00  20.0\n",
       "3   205.0  106.65  24.0\n",
       "4   205.0  110.25  29.0"
      ]
     },
     "execution_count": 244,
     "metadata": {},
     "output_type": "execute_result"
    }
   ],
   "source": [
    "parser = configparser.ConfigParser()\n",
    "parser.read('db.config')\n",
    "\n",
    "config = parser['DEFAULT']\n",
    "\n",
    "engine = sqlalchemy.create_engine(\n",
    "        'mssql+pyodbc://' + config['username'] + \n",
    "        ':' + config['password'] + '@' + config['server'] \n",
    "        + '/' + config['database'] + \"?\" + config['driver'])\n",
    "\n",
    "\n",
    "df = pd.io.sql.read_sql(\"select * from PlayersStats\", engine)\n",
    "df = pd.DataFrame.dropna(df.iloc[:, 1:])\n",
    "df.head()"
   ]
  },
  {
   "cell_type": "markdown",
   "metadata": {},
   "source": [
    "### Обучаем линейную модель"
   ]
  },
  {
   "cell_type": "code",
   "execution_count": 245,
   "metadata": {},
   "outputs": [
    {
     "data": {
      "text/plain": [
       "(-141.19959334427756, array([1.19072481, 0.20253595]), 0.7162921463572308)"
      ]
     },
     "execution_count": 245,
     "metadata": {},
     "output_type": "execute_result"
    }
   ],
   "source": [
    "x = df.loc[:,[\"Height\", \"Age\"]]\n",
    "y = df.loc[:,\"Weight\"]\n",
    "\n",
    "slm = lm.LinearRegression()\n",
    "slm.fit(x, y)\n",
    "slm.intercept_, slm.coef_, slm.score(x, y)"
   ]
  },
  {
   "cell_type": "markdown",
   "metadata": {},
   "source": [
    "### Оцениваем качество"
   ]
  },
  {
   "cell_type": "code",
   "execution_count": 246,
   "metadata": {},
   "outputs": [
    {
     "data": {
      "text/plain": [
       "(0.7059879768402724, 0.052376743929920234)"
      ]
     },
     "execution_count": 246,
     "metadata": {},
     "output_type": "execute_result"
    }
   ],
   "source": [
    "scores = model_selection.cross_val_score(slm, x, y, cv=10, scoring='r2')\n",
    "scores.mean(), scores.std()"
   ]
  },
  {
   "cell_type": "markdown",
   "metadata": {},
   "source": [
    "### Визуализируем"
   ]
  },
  {
   "cell_type": "code",
   "execution_count": 250,
   "metadata": {},
   "outputs": [
    {
     "data": {
      "image/png": "[encoded data removed]",
      "text/plain": [
       "<Figure size 720x360 with 2 Axes>"
      ]
     },
     "metadata": {},
     "output_type": "display_data"
    }
   ],
   "source": [
    "labels = ['Height', 'Age']\n",
    "plt.rcParams[\"figure.figsize\"] = (10,5)\n",
    "\n",
    "for i in range(2):\n",
    "    ax = plt.subplot(1, 2, i + 1)\n",
    "    plt.xlabel(labels[i])\n",
    "    if (i == 0):\n",
    "        plt.ylabel('Weight')\n",
    "    else:\n",
    "        plt.setp(ax.get_yticklabels(), visible=False)\n",
    "    cur_column = x[labels[i]]\n",
    "    # actual data\n",
    "    plt.scatter(cur_column, y)\n",
    "    # prediction\n",
    "    other_column = x[labels[1 - i]]\n",
    "    line_xs = [cur_column.min(), cur_column.max()]\n",
    "    m = other_column.mean()\n",
    "    line_ys = []\n",
    "    for x_ in line_xs:\n",
    "        instance = [[0, 0]]\n",
    "        instance[0][i] = x_\n",
    "        instance[0][1 - i] = m\n",
    "        line_ys.append(slm.predict(instance))\n",
    "    plt.plot(line_xs, line_ys)\n",
    "\n",
    "plt.show()\n"
   ]
  }
 ],
 "metadata": {
  "kernelspec": {
   "display_name": "Python 3",
   "language": "python",
   "name": "python3"
  },
  "language_info": {
   "codemirror_mode": {
    "name": "ipython",
    "version": 3
   },
   "file_extension": ".py",
   "mimetype": "text/x-python",
   "name": "python",
   "nbconvert_exporter": "python",
   "pygments_lexer": "ipython3",
   "version": "3.6.3"
  }
 },
 "nbformat": 4,
 "nbformat_minor": 2
}
